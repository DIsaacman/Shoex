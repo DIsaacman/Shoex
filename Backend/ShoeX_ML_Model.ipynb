{
  "nbformat": 4,
  "nbformat_minor": 0,
  "metadata": {
    "colab": {
      "provenance": []
    },
    "kernelspec": {
      "name": "python3",
      "display_name": "Python 3"
    },
    "language_info": {
      "name": "python"
    }
  },
  "cells": [
    {
      "cell_type": "markdown",
      "source": [
        "# ML Model and Data Analysis\n",
        "\n",
        "The purpose of the Machine Learning Model is to determine a future method for choosing the correct shoes for the ShoeX Inventory."
      ],
      "metadata": {
        "id": "P98LrPwT3Mt-"
      }
    },
    {
      "cell_type": "code",
      "execution_count": 1,
      "metadata": {
        "id": "Le7O-R52UYKv"
      },
      "outputs": [],
      "source": [
        "# Import Dependencies\n",
        "\n",
        "# Modules\n",
        "import pandas as pd\n",
        "import numpy as np\n",
        "import seaborn as sns\n",
        "import matplotlib.pyplot as plt\n",
        "import matplotlib.ticker as plticker\n",
        "\n",
        "# Import libararies for metrics\n",
        "from sklearn.metrics import balanced_accuracy_score\n",
        "from sklearn.metrics import confusion_matrix\n",
        "from imblearn.metrics import classification_report_imbalanced\n",
        "from sklearn.metrics import classification_report \n",
        "from sklearn import metrics\n",
        "\n",
        "\n",
        "# import StandardSclaer and OneHotEncoder\n",
        "from sklearn.preprocessing import StandardScaler,OneHotEncoder\n",
        "\n",
        "# Import the train_test_learn module\n",
        "from sklearn.model_selection import train_test_split\n",
        "\n",
        "# Import the RandomOverSampler module form imbalanced-learn\n",
        "from imblearn.over_sampling import RandomOverSampler\n",
        "\n",
        "# Import LogisticRegression library\n",
        "from sklearn.linear_model import LogisticRegression\n",
        "\n",
        "# Import KNeighborsClasifier library\n",
        "from sklearn.neighbors import KNeighborsClassifier\n",
        "\n",
        "import warnings\n",
        "warnings.filterwarnings('ignore')"
      ]
    },
    {
      "cell_type": "markdown",
      "source": [
        "## Data Preperation"
      ],
      "metadata": {
        "id": "DaaEVWLD3o_s"
      }
    },
    {
      "cell_type": "code",
      "source": [
        "# Read Data from StockX Data Contest\n",
        "cleandata = pd.read_csv('https://raw.githubusercontent.com/saromleang/stockx-dc19/master/StockX-Data-Contest-2019-3.csv')\n",
        "df = cleandata.copy()\n",
        "\n",
        "# Set Order Date as Index and convert to datetime\n",
        "df['Order Date'] = pd.to_datetime(df['Order Date'])\n",
        "df['Release Date'] = pd.to_datetime(df['Release Date'])\n",
        "\n",
        "# Display Data\n",
        "df.head()"
      ],
      "metadata": {
        "colab": {
          "base_uri": "https://localhost:8080/",
          "height": 667
        },
        "id": "WoyWzI5aW5NA",
        "outputId": "74dd3801-aab2-4d42-abed-97713cfed4b4"
      },
      "execution_count": 2,
      "outputs": [
        {
          "output_type": "execute_result",
          "data": {
            "text/plain": [
              "  Order Date   Brand                                   Sneaker Name  \\\n",
              "0 2017-09-01   Yeezy           Adidas-Yeezy-Boost-350-Low-V2-Beluga   \n",
              "1 2017-09-01   Yeezy    Adidas-Yeezy-Boost-350-V2-Core-Black-Copper   \n",
              "2 2017-09-01   Yeezy     Adidas-Yeezy-Boost-350-V2-Core-Black-Green   \n",
              "3 2017-09-01   Yeezy       Adidas-Yeezy-Boost-350-V2-Core-Black-Red   \n",
              "4 2017-09-01   Yeezy  Adidas-Yeezy-Boost-350-V2-Core-Black-Red-2017   \n",
              "\n",
              "   Sale Price  Retail Price Release Date  Shoe Size  Buyer Region  Days Since  \\\n",
              "0        1097           220   2016-09-24       11.0    California         342   \n",
              "1         685           220   2016-11-23       11.0    California         282   \n",
              "2         690           220   2016-11-23       11.0    California         282   \n",
              "3        1075           220   2016-11-23       11.5      Kentucky         282   \n",
              "4         828           220   2017-02-11       11.0  Rhode Island         202   \n",
              "\n",
              "   Profit  \n",
              "0     877  \n",
              "1     465  \n",
              "2     470  \n",
              "3     855  \n",
              "4     608  "
            ],
            "text/html": [
              "\n",
              "  <div id=\"df-2b4bbe61-7889-4443-bcc7-d17591105eca\">\n",
              "    <div class=\"colab-df-container\">\n",
              "      <div>\n",
              "<style scoped>\n",
              "    .dataframe tbody tr th:only-of-type {\n",
              "        vertical-align: middle;\n",
              "    }\n",
              "\n",
              "    .dataframe tbody tr th {\n",
              "        vertical-align: top;\n",
              "    }\n",
              "\n",
              "    .dataframe thead th {\n",
              "        text-align: right;\n",
              "    }\n",
              "</style>\n",
              "<table border=\"1\" class=\"dataframe\">\n",
              "  <thead>\n",
              "    <tr style=\"text-align: right;\">\n",
              "      <th></th>\n",
              "      <th>Order Date</th>\n",
              "      <th>Brand</th>\n",
              "      <th>Sneaker Name</th>\n",
              "      <th>Sale Price</th>\n",
              "      <th>Retail Price</th>\n",
              "      <th>Release Date</th>\n",
              "      <th>Shoe Size</th>\n",
              "      <th>Buyer Region</th>\n",
              "      <th>Days Since</th>\n",
              "      <th>Profit</th>\n",
              "    </tr>\n",
              "  </thead>\n",
              "  <tbody>\n",
              "    <tr>\n",
              "      <th>0</th>\n",
              "      <td>2017-09-01</td>\n",
              "      <td>Yeezy</td>\n",
              "      <td>Adidas-Yeezy-Boost-350-Low-V2-Beluga</td>\n",
              "      <td>1097</td>\n",
              "      <td>220</td>\n",
              "      <td>2016-09-24</td>\n",
              "      <td>11.0</td>\n",
              "      <td>California</td>\n",
              "      <td>342</td>\n",
              "      <td>877</td>\n",
              "    </tr>\n",
              "    <tr>\n",
              "      <th>1</th>\n",
              "      <td>2017-09-01</td>\n",
              "      <td>Yeezy</td>\n",
              "      <td>Adidas-Yeezy-Boost-350-V2-Core-Black-Copper</td>\n",
              "      <td>685</td>\n",
              "      <td>220</td>\n",
              "      <td>2016-11-23</td>\n",
              "      <td>11.0</td>\n",
              "      <td>California</td>\n",
              "      <td>282</td>\n",
              "      <td>465</td>\n",
              "    </tr>\n",
              "    <tr>\n",
              "      <th>2</th>\n",
              "      <td>2017-09-01</td>\n",
              "      <td>Yeezy</td>\n",
              "      <td>Adidas-Yeezy-Boost-350-V2-Core-Black-Green</td>\n",
              "      <td>690</td>\n",
              "      <td>220</td>\n",
              "      <td>2016-11-23</td>\n",
              "      <td>11.0</td>\n",
              "      <td>California</td>\n",
              "      <td>282</td>\n",
              "      <td>470</td>\n",
              "    </tr>\n",
              "    <tr>\n",
              "      <th>3</th>\n",
              "      <td>2017-09-01</td>\n",
              "      <td>Yeezy</td>\n",
              "      <td>Adidas-Yeezy-Boost-350-V2-Core-Black-Red</td>\n",
              "      <td>1075</td>\n",
              "      <td>220</td>\n",
              "      <td>2016-11-23</td>\n",
              "      <td>11.5</td>\n",
              "      <td>Kentucky</td>\n",
              "      <td>282</td>\n",
              "      <td>855</td>\n",
              "    </tr>\n",
              "    <tr>\n",
              "      <th>4</th>\n",
              "      <td>2017-09-01</td>\n",
              "      <td>Yeezy</td>\n",
              "      <td>Adidas-Yeezy-Boost-350-V2-Core-Black-Red-2017</td>\n",
              "      <td>828</td>\n",
              "      <td>220</td>\n",
              "      <td>2017-02-11</td>\n",
              "      <td>11.0</td>\n",
              "      <td>Rhode Island</td>\n",
              "      <td>202</td>\n",
              "      <td>608</td>\n",
              "    </tr>\n",
              "  </tbody>\n",
              "</table>\n",
              "</div>\n",
              "      <button class=\"colab-df-convert\" onclick=\"convertToInteractive('df-2b4bbe61-7889-4443-bcc7-d17591105eca')\"\n",
              "              title=\"Convert this dataframe to an interactive table.\"\n",
              "              style=\"display:none;\">\n",
              "        \n",
              "  <svg xmlns=\"http://www.w3.org/2000/svg\" height=\"24px\"viewBox=\"0 0 24 24\"\n",
              "       width=\"24px\">\n",
              "    <path d=\"M0 0h24v24H0V0z\" fill=\"none\"/>\n",
              "    <path d=\"M18.56 5.44l.94 2.06.94-2.06 2.06-.94-2.06-.94-.94-2.06-.94 2.06-2.06.94zm-11 1L8.5 8.5l.94-2.06 2.06-.94-2.06-.94L8.5 2.5l-.94 2.06-2.06.94zm10 10l.94 2.06.94-2.06 2.06-.94-2.06-.94-.94-2.06-.94 2.06-2.06.94z\"/><path d=\"M17.41 7.96l-1.37-1.37c-.4-.4-.92-.59-1.43-.59-.52 0-1.04.2-1.43.59L10.3 9.45l-7.72 7.72c-.78.78-.78 2.05 0 2.83L4 21.41c.39.39.9.59 1.41.59.51 0 1.02-.2 1.41-.59l7.78-7.78 2.81-2.81c.8-.78.8-2.07 0-2.86zM5.41 20L4 18.59l7.72-7.72 1.47 1.35L5.41 20z\"/>\n",
              "  </svg>\n",
              "      </button>\n",
              "      \n",
              "  <style>\n",
              "    .colab-df-container {\n",
              "      display:flex;\n",
              "      flex-wrap:wrap;\n",
              "      gap: 12px;\n",
              "    }\n",
              "\n",
              "    .colab-df-convert {\n",
              "      background-color: #E8F0FE;\n",
              "      border: none;\n",
              "      border-radius: 50%;\n",
              "      cursor: pointer;\n",
              "      display: none;\n",
              "      fill: #1967D2;\n",
              "      height: 32px;\n",
              "      padding: 0 0 0 0;\n",
              "      width: 32px;\n",
              "    }\n",
              "\n",
              "    .colab-df-convert:hover {\n",
              "      background-color: #E2EBFA;\n",
              "      box-shadow: 0px 1px 2px rgba(60, 64, 67, 0.3), 0px 1px 3px 1px rgba(60, 64, 67, 0.15);\n",
              "      fill: #174EA6;\n",
              "    }\n",
              "\n",
              "    [theme=dark] .colab-df-convert {\n",
              "      background-color: #3B4455;\n",
              "      fill: #D2E3FC;\n",
              "    }\n",
              "\n",
              "    [theme=dark] .colab-df-convert:hover {\n",
              "      background-color: #434B5C;\n",
              "      box-shadow: 0px 1px 3px 1px rgba(0, 0, 0, 0.15);\n",
              "      filter: drop-shadow(0px 1px 2px rgba(0, 0, 0, 0.3));\n",
              "      fill: #FFFFFF;\n",
              "    }\n",
              "  </style>\n",
              "\n",
              "      <script>\n",
              "        const buttonEl =\n",
              "          document.querySelector('#df-2b4bbe61-7889-4443-bcc7-d17591105eca button.colab-df-convert');\n",
              "        buttonEl.style.display =\n",
              "          google.colab.kernel.accessAllowed ? 'block' : 'none';\n",
              "\n",
              "        async function convertToInteractive(key) {\n",
              "          const element = document.querySelector('#df-2b4bbe61-7889-4443-bcc7-d17591105eca');\n",
              "          const dataTable =\n",
              "            await google.colab.kernel.invokeFunction('convertToInteractive',\n",
              "                                                     [key], {});\n",
              "          if (!dataTable) return;\n",
              "\n",
              "          const docLinkHtml = 'Like what you see? Visit the ' +\n",
              "            '<a target=\"_blank\" href=https://colab.research.google.com/notebooks/data_table.ipynb>data table notebook</a>'\n",
              "            + ' to learn more about interactive tables.';\n",
              "          element.innerHTML = '';\n",
              "          dataTable['output_type'] = 'display_data';\n",
              "          await google.colab.output.renderOutput(dataTable, element);\n",
              "          const docLink = document.createElement('div');\n",
              "          docLink.innerHTML = docLinkHtml;\n",
              "          element.appendChild(docLink);\n",
              "        }\n",
              "      </script>\n",
              "    </div>\n",
              "  </div>\n",
              "  "
            ]
          },
          "metadata": {},
          "execution_count": 2
        }
      ]
    },
    {
      "cell_type": "code",
      "source": [
        "# Describe Data\n",
        "df.describe()"
      ],
      "metadata": {
        "colab": {
          "base_uri": "https://localhost:8080/",
          "height": 300
        },
        "id": "9G6W3ZjfbNO3",
        "outputId": "b59c20fd-ffca-4798-bd28-17153c0e5f6e"
      },
      "execution_count": 3,
      "outputs": [
        {
          "output_type": "execute_result",
          "data": {
            "text/plain": [
              "         Sale Price  Retail Price     Shoe Size    Days Since        Profit\n",
              "count  99956.000000   99956.00000  99956.000000  99956.000000  99956.000000\n",
              "mean     446.634719     208.61359      9.344181    183.708722    238.021129\n",
              "std      255.982969      25.20001      2.329588    232.354142    266.133179\n",
              "min      186.000000     130.00000      3.500000    -69.000000    -34.000000\n",
              "25%      275.000000     220.00000      8.000000     10.000000     58.000000\n",
              "50%      370.000000     220.00000      9.500000     56.000000    154.000000\n",
              "75%      540.000000     220.00000     11.000000    345.000000    342.000000\n",
              "max     4050.000000     250.00000     17.000000   1321.000000   3860.000000"
            ],
            "text/html": [
              "\n",
              "  <div id=\"df-242ee760-364c-4bf7-9581-d8ab51f6d50c\">\n",
              "    <div class=\"colab-df-container\">\n",
              "      <div>\n",
              "<style scoped>\n",
              "    .dataframe tbody tr th:only-of-type {\n",
              "        vertical-align: middle;\n",
              "    }\n",
              "\n",
              "    .dataframe tbody tr th {\n",
              "        vertical-align: top;\n",
              "    }\n",
              "\n",
              "    .dataframe thead th {\n",
              "        text-align: right;\n",
              "    }\n",
              "</style>\n",
              "<table border=\"1\" class=\"dataframe\">\n",
              "  <thead>\n",
              "    <tr style=\"text-align: right;\">\n",
              "      <th></th>\n",
              "      <th>Sale Price</th>\n",
              "      <th>Retail Price</th>\n",
              "      <th>Shoe Size</th>\n",
              "      <th>Days Since</th>\n",
              "      <th>Profit</th>\n",
              "    </tr>\n",
              "  </thead>\n",
              "  <tbody>\n",
              "    <tr>\n",
              "      <th>count</th>\n",
              "      <td>99956.000000</td>\n",
              "      <td>99956.00000</td>\n",
              "      <td>99956.000000</td>\n",
              "      <td>99956.000000</td>\n",
              "      <td>99956.000000</td>\n",
              "    </tr>\n",
              "    <tr>\n",
              "      <th>mean</th>\n",
              "      <td>446.634719</td>\n",
              "      <td>208.61359</td>\n",
              "      <td>9.344181</td>\n",
              "      <td>183.708722</td>\n",
              "      <td>238.021129</td>\n",
              "    </tr>\n",
              "    <tr>\n",
              "      <th>std</th>\n",
              "      <td>255.982969</td>\n",
              "      <td>25.20001</td>\n",
              "      <td>2.329588</td>\n",
              "      <td>232.354142</td>\n",
              "      <td>266.133179</td>\n",
              "    </tr>\n",
              "    <tr>\n",
              "      <th>min</th>\n",
              "      <td>186.000000</td>\n",
              "      <td>130.00000</td>\n",
              "      <td>3.500000</td>\n",
              "      <td>-69.000000</td>\n",
              "      <td>-34.000000</td>\n",
              "    </tr>\n",
              "    <tr>\n",
              "      <th>25%</th>\n",
              "      <td>275.000000</td>\n",
              "      <td>220.00000</td>\n",
              "      <td>8.000000</td>\n",
              "      <td>10.000000</td>\n",
              "      <td>58.000000</td>\n",
              "    </tr>\n",
              "    <tr>\n",
              "      <th>50%</th>\n",
              "      <td>370.000000</td>\n",
              "      <td>220.00000</td>\n",
              "      <td>9.500000</td>\n",
              "      <td>56.000000</td>\n",
              "      <td>154.000000</td>\n",
              "    </tr>\n",
              "    <tr>\n",
              "      <th>75%</th>\n",
              "      <td>540.000000</td>\n",
              "      <td>220.00000</td>\n",
              "      <td>11.000000</td>\n",
              "      <td>345.000000</td>\n",
              "      <td>342.000000</td>\n",
              "    </tr>\n",
              "    <tr>\n",
              "      <th>max</th>\n",
              "      <td>4050.000000</td>\n",
              "      <td>250.00000</td>\n",
              "      <td>17.000000</td>\n",
              "      <td>1321.000000</td>\n",
              "      <td>3860.000000</td>\n",
              "    </tr>\n",
              "  </tbody>\n",
              "</table>\n",
              "</div>\n",
              "      <button class=\"colab-df-convert\" onclick=\"convertToInteractive('df-242ee760-364c-4bf7-9581-d8ab51f6d50c')\"\n",
              "              title=\"Convert this dataframe to an interactive table.\"\n",
              "              style=\"display:none;\">\n",
              "        \n",
              "  <svg xmlns=\"http://www.w3.org/2000/svg\" height=\"24px\"viewBox=\"0 0 24 24\"\n",
              "       width=\"24px\">\n",
              "    <path d=\"M0 0h24v24H0V0z\" fill=\"none\"/>\n",
              "    <path d=\"M18.56 5.44l.94 2.06.94-2.06 2.06-.94-2.06-.94-.94-2.06-.94 2.06-2.06.94zm-11 1L8.5 8.5l.94-2.06 2.06-.94-2.06-.94L8.5 2.5l-.94 2.06-2.06.94zm10 10l.94 2.06.94-2.06 2.06-.94-2.06-.94-.94-2.06-.94 2.06-2.06.94z\"/><path d=\"M17.41 7.96l-1.37-1.37c-.4-.4-.92-.59-1.43-.59-.52 0-1.04.2-1.43.59L10.3 9.45l-7.72 7.72c-.78.78-.78 2.05 0 2.83L4 21.41c.39.39.9.59 1.41.59.51 0 1.02-.2 1.41-.59l7.78-7.78 2.81-2.81c.8-.78.8-2.07 0-2.86zM5.41 20L4 18.59l7.72-7.72 1.47 1.35L5.41 20z\"/>\n",
              "  </svg>\n",
              "      </button>\n",
              "      \n",
              "  <style>\n",
              "    .colab-df-container {\n",
              "      display:flex;\n",
              "      flex-wrap:wrap;\n",
              "      gap: 12px;\n",
              "    }\n",
              "\n",
              "    .colab-df-convert {\n",
              "      background-color: #E8F0FE;\n",
              "      border: none;\n",
              "      border-radius: 50%;\n",
              "      cursor: pointer;\n",
              "      display: none;\n",
              "      fill: #1967D2;\n",
              "      height: 32px;\n",
              "      padding: 0 0 0 0;\n",
              "      width: 32px;\n",
              "    }\n",
              "\n",
              "    .colab-df-convert:hover {\n",
              "      background-color: #E2EBFA;\n",
              "      box-shadow: 0px 1px 2px rgba(60, 64, 67, 0.3), 0px 1px 3px 1px rgba(60, 64, 67, 0.15);\n",
              "      fill: #174EA6;\n",
              "    }\n",
              "\n",
              "    [theme=dark] .colab-df-convert {\n",
              "      background-color: #3B4455;\n",
              "      fill: #D2E3FC;\n",
              "    }\n",
              "\n",
              "    [theme=dark] .colab-df-convert:hover {\n",
              "      background-color: #434B5C;\n",
              "      box-shadow: 0px 1px 3px 1px rgba(0, 0, 0, 0.15);\n",
              "      filter: drop-shadow(0px 1px 2px rgba(0, 0, 0, 0.3));\n",
              "      fill: #FFFFFF;\n",
              "    }\n",
              "  </style>\n",
              "\n",
              "      <script>\n",
              "        const buttonEl =\n",
              "          document.querySelector('#df-242ee760-364c-4bf7-9581-d8ab51f6d50c button.colab-df-convert');\n",
              "        buttonEl.style.display =\n",
              "          google.colab.kernel.accessAllowed ? 'block' : 'none';\n",
              "\n",
              "        async function convertToInteractive(key) {\n",
              "          const element = document.querySelector('#df-242ee760-364c-4bf7-9581-d8ab51f6d50c');\n",
              "          const dataTable =\n",
              "            await google.colab.kernel.invokeFunction('convertToInteractive',\n",
              "                                                     [key], {});\n",
              "          if (!dataTable) return;\n",
              "\n",
              "          const docLinkHtml = 'Like what you see? Visit the ' +\n",
              "            '<a target=\"_blank\" href=https://colab.research.google.com/notebooks/data_table.ipynb>data table notebook</a>'\n",
              "            + ' to learn more about interactive tables.';\n",
              "          element.innerHTML = '';\n",
              "          dataTable['output_type'] = 'display_data';\n",
              "          await google.colab.output.renderOutput(dataTable, element);\n",
              "          const docLink = document.createElement('div');\n",
              "          docLink.innerHTML = docLinkHtml;\n",
              "          element.appendChild(docLink);\n",
              "        }\n",
              "      </script>\n",
              "    </div>\n",
              "  </div>\n",
              "  "
            ]
          },
          "metadata": {},
          "execution_count": 3
        }
      ]
    },
    {
      "cell_type": "code",
      "source": [
        "# Show Headers\n",
        "df.columns"
      ],
      "metadata": {
        "colab": {
          "base_uri": "https://localhost:8080/"
        },
        "id": "qq0esQJHbPB3",
        "outputId": "552307ab-6f02-453b-e00f-55c85e7270f4"
      },
      "execution_count": 4,
      "outputs": [
        {
          "output_type": "execute_result",
          "data": {
            "text/plain": [
              "Index(['Order Date', 'Brand', 'Sneaker Name', 'Sale Price', 'Retail Price',\n",
              "       'Release Date', 'Shoe Size', 'Buyer Region', 'Days Since', 'Profit'],\n",
              "      dtype='object')"
            ]
          },
          "metadata": {},
          "execution_count": 4
        }
      ]
    },
    {
      "cell_type": "code",
      "source": [
        "# Create a \"%\"\" Column that shows the overall Percentage of Profit per Trade\n",
        "df[\"%\"] = df['Profit'] / df[\"Retail Price\"]"
      ],
      "metadata": {
        "id": "LIx5W7yOhk_-"
      },
      "execution_count": 5,
      "outputs": []
    },
    {
      "cell_type": "code",
      "source": [
        "#Set Profit Margin as a multiple\n",
        "margin = 1\n",
        "\n",
        "# Find Profitable Sales and Create New Column Called Profitable to act as a target\n",
        "df['Profitable'] = (df['%']>= margin )\n",
        "\n",
        "# Change bool value to integer\n",
        "df['Profitable'] = df['Profitable'].astype(int)"
      ],
      "metadata": {
        "id": "sJxsWoulbQrs"
      },
      "execution_count": 6,
      "outputs": []
    },
    {
      "cell_type": "code",
      "source": [
        "df"
      ],
      "metadata": {
        "colab": {
          "base_uri": "https://localhost:8080/",
          "height": 1000
        },
        "id": "DpiODYyCwnGY",
        "outputId": "e8115dcf-d843-425e-90c9-07561344593e"
      },
      "execution_count": 7,
      "outputs": [
        {
          "output_type": "execute_result",
          "data": {
            "text/plain": [
              "      Order Date   Brand                                   Sneaker Name  \\\n",
              "0     2017-09-01   Yeezy           Adidas-Yeezy-Boost-350-Low-V2-Beluga   \n",
              "1     2017-09-01   Yeezy    Adidas-Yeezy-Boost-350-V2-Core-Black-Copper   \n",
              "2     2017-09-01   Yeezy     Adidas-Yeezy-Boost-350-V2-Core-Black-Green   \n",
              "3     2017-09-01   Yeezy       Adidas-Yeezy-Boost-350-V2-Core-Black-Red   \n",
              "4     2017-09-01   Yeezy  Adidas-Yeezy-Boost-350-V2-Core-Black-Red-2017   \n",
              "...          ...     ...                                            ...   \n",
              "99951 2019-02-13   Yeezy    adidas-Yeezy-Boost-350-V2-Static-Reflective   \n",
              "99952 2019-02-13   Yeezy    adidas-Yeezy-Boost-350-V2-Static-Reflective   \n",
              "99953 2019-02-13   Yeezy    adidas-Yeezy-Boost-350-V2-Static-Reflective   \n",
              "99954 2019-02-13   Yeezy    adidas-Yeezy-Boost-350-V2-Static-Reflective   \n",
              "99955 2019-02-13   Yeezy    adidas-Yeezy-Boost-350-V2-Static-Reflective   \n",
              "\n",
              "       Sale Price  Retail Price Release Date  Shoe Size  Buyer Region  \\\n",
              "0            1097           220   2016-09-24       11.0    California   \n",
              "1             685           220   2016-11-23       11.0    California   \n",
              "2             690           220   2016-11-23       11.0    California   \n",
              "3            1075           220   2016-11-23       11.5      Kentucky   \n",
              "4             828           220   2017-02-11       11.0  Rhode Island   \n",
              "...           ...           ...          ...        ...           ...   \n",
              "99951         565           220   2018-12-26        8.0        Oregon   \n",
              "99952         598           220   2018-12-26        8.5    California   \n",
              "99953         605           220   2018-12-26        5.5      New York   \n",
              "99954         650           220   2018-12-26       11.0    California   \n",
              "99955         640           220   2018-12-26       11.5         Texas   \n",
              "\n",
              "       Days Since  Profit         %  Profitable  \n",
              "0             342     877  3.986364           1  \n",
              "1             282     465  2.113636           1  \n",
              "2             282     470  2.136364           1  \n",
              "3             282     855  3.886364           1  \n",
              "4             202     608  2.763636           1  \n",
              "...           ...     ...       ...         ...  \n",
              "99951          49     345  1.568182           1  \n",
              "99952          49     378  1.718182           1  \n",
              "99953          49     385  1.750000           1  \n",
              "99954          49     430  1.954545           1  \n",
              "99955          49     420  1.909091           1  \n",
              "\n",
              "[99956 rows x 12 columns]"
            ],
            "text/html": [
              "\n",
              "  <div id=\"df-1012f7a2-9ed5-49cd-9af4-e5875b6236a9\">\n",
              "    <div class=\"colab-df-container\">\n",
              "      <div>\n",
              "<style scoped>\n",
              "    .dataframe tbody tr th:only-of-type {\n",
              "        vertical-align: middle;\n",
              "    }\n",
              "\n",
              "    .dataframe tbody tr th {\n",
              "        vertical-align: top;\n",
              "    }\n",
              "\n",
              "    .dataframe thead th {\n",
              "        text-align: right;\n",
              "    }\n",
              "</style>\n",
              "<table border=\"1\" class=\"dataframe\">\n",
              "  <thead>\n",
              "    <tr style=\"text-align: right;\">\n",
              "      <th></th>\n",
              "      <th>Order Date</th>\n",
              "      <th>Brand</th>\n",
              "      <th>Sneaker Name</th>\n",
              "      <th>Sale Price</th>\n",
              "      <th>Retail Price</th>\n",
              "      <th>Release Date</th>\n",
              "      <th>Shoe Size</th>\n",
              "      <th>Buyer Region</th>\n",
              "      <th>Days Since</th>\n",
              "      <th>Profit</th>\n",
              "      <th>%</th>\n",
              "      <th>Profitable</th>\n",
              "    </tr>\n",
              "  </thead>\n",
              "  <tbody>\n",
              "    <tr>\n",
              "      <th>0</th>\n",
              "      <td>2017-09-01</td>\n",
              "      <td>Yeezy</td>\n",
              "      <td>Adidas-Yeezy-Boost-350-Low-V2-Beluga</td>\n",
              "      <td>1097</td>\n",
              "      <td>220</td>\n",
              "      <td>2016-09-24</td>\n",
              "      <td>11.0</td>\n",
              "      <td>California</td>\n",
              "      <td>342</td>\n",
              "      <td>877</td>\n",
              "      <td>3.986364</td>\n",
              "      <td>1</td>\n",
              "    </tr>\n",
              "    <tr>\n",
              "      <th>1</th>\n",
              "      <td>2017-09-01</td>\n",
              "      <td>Yeezy</td>\n",
              "      <td>Adidas-Yeezy-Boost-350-V2-Core-Black-Copper</td>\n",
              "      <td>685</td>\n",
              "      <td>220</td>\n",
              "      <td>2016-11-23</td>\n",
              "      <td>11.0</td>\n",
              "      <td>California</td>\n",
              "      <td>282</td>\n",
              "      <td>465</td>\n",
              "      <td>2.113636</td>\n",
              "      <td>1</td>\n",
              "    </tr>\n",
              "    <tr>\n",
              "      <th>2</th>\n",
              "      <td>2017-09-01</td>\n",
              "      <td>Yeezy</td>\n",
              "      <td>Adidas-Yeezy-Boost-350-V2-Core-Black-Green</td>\n",
              "      <td>690</td>\n",
              "      <td>220</td>\n",
              "      <td>2016-11-23</td>\n",
              "      <td>11.0</td>\n",
              "      <td>California</td>\n",
              "      <td>282</td>\n",
              "      <td>470</td>\n",
              "      <td>2.136364</td>\n",
              "      <td>1</td>\n",
              "    </tr>\n",
              "    <tr>\n",
              "      <th>3</th>\n",
              "      <td>2017-09-01</td>\n",
              "      <td>Yeezy</td>\n",
              "      <td>Adidas-Yeezy-Boost-350-V2-Core-Black-Red</td>\n",
              "      <td>1075</td>\n",
              "      <td>220</td>\n",
              "      <td>2016-11-23</td>\n",
              "      <td>11.5</td>\n",
              "      <td>Kentucky</td>\n",
              "      <td>282</td>\n",
              "      <td>855</td>\n",
              "      <td>3.886364</td>\n",
              "      <td>1</td>\n",
              "    </tr>\n",
              "    <tr>\n",
              "      <th>4</th>\n",
              "      <td>2017-09-01</td>\n",
              "      <td>Yeezy</td>\n",
              "      <td>Adidas-Yeezy-Boost-350-V2-Core-Black-Red-2017</td>\n",
              "      <td>828</td>\n",
              "      <td>220</td>\n",
              "      <td>2017-02-11</td>\n",
              "      <td>11.0</td>\n",
              "      <td>Rhode Island</td>\n",
              "      <td>202</td>\n",
              "      <td>608</td>\n",
              "      <td>2.763636</td>\n",
              "      <td>1</td>\n",
              "    </tr>\n",
              "    <tr>\n",
              "      <th>...</th>\n",
              "      <td>...</td>\n",
              "      <td>...</td>\n",
              "      <td>...</td>\n",
              "      <td>...</td>\n",
              "      <td>...</td>\n",
              "      <td>...</td>\n",
              "      <td>...</td>\n",
              "      <td>...</td>\n",
              "      <td>...</td>\n",
              "      <td>...</td>\n",
              "      <td>...</td>\n",
              "      <td>...</td>\n",
              "    </tr>\n",
              "    <tr>\n",
              "      <th>99951</th>\n",
              "      <td>2019-02-13</td>\n",
              "      <td>Yeezy</td>\n",
              "      <td>adidas-Yeezy-Boost-350-V2-Static-Reflective</td>\n",
              "      <td>565</td>\n",
              "      <td>220</td>\n",
              "      <td>2018-12-26</td>\n",
              "      <td>8.0</td>\n",
              "      <td>Oregon</td>\n",
              "      <td>49</td>\n",
              "      <td>345</td>\n",
              "      <td>1.568182</td>\n",
              "      <td>1</td>\n",
              "    </tr>\n",
              "    <tr>\n",
              "      <th>99952</th>\n",
              "      <td>2019-02-13</td>\n",
              "      <td>Yeezy</td>\n",
              "      <td>adidas-Yeezy-Boost-350-V2-Static-Reflective</td>\n",
              "      <td>598</td>\n",
              "      <td>220</td>\n",
              "      <td>2018-12-26</td>\n",
              "      <td>8.5</td>\n",
              "      <td>California</td>\n",
              "      <td>49</td>\n",
              "      <td>378</td>\n",
              "      <td>1.718182</td>\n",
              "      <td>1</td>\n",
              "    </tr>\n",
              "    <tr>\n",
              "      <th>99953</th>\n",
              "      <td>2019-02-13</td>\n",
              "      <td>Yeezy</td>\n",
              "      <td>adidas-Yeezy-Boost-350-V2-Static-Reflective</td>\n",
              "      <td>605</td>\n",
              "      <td>220</td>\n",
              "      <td>2018-12-26</td>\n",
              "      <td>5.5</td>\n",
              "      <td>New York</td>\n",
              "      <td>49</td>\n",
              "      <td>385</td>\n",
              "      <td>1.750000</td>\n",
              "      <td>1</td>\n",
              "    </tr>\n",
              "    <tr>\n",
              "      <th>99954</th>\n",
              "      <td>2019-02-13</td>\n",
              "      <td>Yeezy</td>\n",
              "      <td>adidas-Yeezy-Boost-350-V2-Static-Reflective</td>\n",
              "      <td>650</td>\n",
              "      <td>220</td>\n",
              "      <td>2018-12-26</td>\n",
              "      <td>11.0</td>\n",
              "      <td>California</td>\n",
              "      <td>49</td>\n",
              "      <td>430</td>\n",
              "      <td>1.954545</td>\n",
              "      <td>1</td>\n",
              "    </tr>\n",
              "    <tr>\n",
              "      <th>99955</th>\n",
              "      <td>2019-02-13</td>\n",
              "      <td>Yeezy</td>\n",
              "      <td>adidas-Yeezy-Boost-350-V2-Static-Reflective</td>\n",
              "      <td>640</td>\n",
              "      <td>220</td>\n",
              "      <td>2018-12-26</td>\n",
              "      <td>11.5</td>\n",
              "      <td>Texas</td>\n",
              "      <td>49</td>\n",
              "      <td>420</td>\n",
              "      <td>1.909091</td>\n",
              "      <td>1</td>\n",
              "    </tr>\n",
              "  </tbody>\n",
              "</table>\n",
              "<p>99956 rows × 12 columns</p>\n",
              "</div>\n",
              "      <button class=\"colab-df-convert\" onclick=\"convertToInteractive('df-1012f7a2-9ed5-49cd-9af4-e5875b6236a9')\"\n",
              "              title=\"Convert this dataframe to an interactive table.\"\n",
              "              style=\"display:none;\">\n",
              "        \n",
              "  <svg xmlns=\"http://www.w3.org/2000/svg\" height=\"24px\"viewBox=\"0 0 24 24\"\n",
              "       width=\"24px\">\n",
              "    <path d=\"M0 0h24v24H0V0z\" fill=\"none\"/>\n",
              "    <path d=\"M18.56 5.44l.94 2.06.94-2.06 2.06-.94-2.06-.94-.94-2.06-.94 2.06-2.06.94zm-11 1L8.5 8.5l.94-2.06 2.06-.94-2.06-.94L8.5 2.5l-.94 2.06-2.06.94zm10 10l.94 2.06.94-2.06 2.06-.94-2.06-.94-.94-2.06-.94 2.06-2.06.94z\"/><path d=\"M17.41 7.96l-1.37-1.37c-.4-.4-.92-.59-1.43-.59-.52 0-1.04.2-1.43.59L10.3 9.45l-7.72 7.72c-.78.78-.78 2.05 0 2.83L4 21.41c.39.39.9.59 1.41.59.51 0 1.02-.2 1.41-.59l7.78-7.78 2.81-2.81c.8-.78.8-2.07 0-2.86zM5.41 20L4 18.59l7.72-7.72 1.47 1.35L5.41 20z\"/>\n",
              "  </svg>\n",
              "      </button>\n",
              "      \n",
              "  <style>\n",
              "    .colab-df-container {\n",
              "      display:flex;\n",
              "      flex-wrap:wrap;\n",
              "      gap: 12px;\n",
              "    }\n",
              "\n",
              "    .colab-df-convert {\n",
              "      background-color: #E8F0FE;\n",
              "      border: none;\n",
              "      border-radius: 50%;\n",
              "      cursor: pointer;\n",
              "      display: none;\n",
              "      fill: #1967D2;\n",
              "      height: 32px;\n",
              "      padding: 0 0 0 0;\n",
              "      width: 32px;\n",
              "    }\n",
              "\n",
              "    .colab-df-convert:hover {\n",
              "      background-color: #E2EBFA;\n",
              "      box-shadow: 0px 1px 2px rgba(60, 64, 67, 0.3), 0px 1px 3px 1px rgba(60, 64, 67, 0.15);\n",
              "      fill: #174EA6;\n",
              "    }\n",
              "\n",
              "    [theme=dark] .colab-df-convert {\n",
              "      background-color: #3B4455;\n",
              "      fill: #D2E3FC;\n",
              "    }\n",
              "\n",
              "    [theme=dark] .colab-df-convert:hover {\n",
              "      background-color: #434B5C;\n",
              "      box-shadow: 0px 1px 3px 1px rgba(0, 0, 0, 0.15);\n",
              "      filter: drop-shadow(0px 1px 2px rgba(0, 0, 0, 0.3));\n",
              "      fill: #FFFFFF;\n",
              "    }\n",
              "  </style>\n",
              "\n",
              "      <script>\n",
              "        const buttonEl =\n",
              "          document.querySelector('#df-1012f7a2-9ed5-49cd-9af4-e5875b6236a9 button.colab-df-convert');\n",
              "        buttonEl.style.display =\n",
              "          google.colab.kernel.accessAllowed ? 'block' : 'none';\n",
              "\n",
              "        async function convertToInteractive(key) {\n",
              "          const element = document.querySelector('#df-1012f7a2-9ed5-49cd-9af4-e5875b6236a9');\n",
              "          const dataTable =\n",
              "            await google.colab.kernel.invokeFunction('convertToInteractive',\n",
              "                                                     [key], {});\n",
              "          if (!dataTable) return;\n",
              "\n",
              "          const docLinkHtml = 'Like what you see? Visit the ' +\n",
              "            '<a target=\"_blank\" href=https://colab.research.google.com/notebooks/data_table.ipynb>data table notebook</a>'\n",
              "            + ' to learn more about interactive tables.';\n",
              "          element.innerHTML = '';\n",
              "          dataTable['output_type'] = 'display_data';\n",
              "          await google.colab.output.renderOutput(dataTable, element);\n",
              "          const docLink = document.createElement('div');\n",
              "          docLink.innerHTML = docLinkHtml;\n",
              "          element.appendChild(docLink);\n",
              "        }\n",
              "      </script>\n",
              "    </div>\n",
              "  </div>\n",
              "  "
            ]
          },
          "metadata": {},
          "execution_count": 7
        }
      ]
    },
    {
      "cell_type": "markdown",
      "source": [
        "## Data Analysis"
      ],
      "metadata": {
        "id": "LDQy4qLW3xij"
      }
    },
    {
      "cell_type": "code",
      "source": [
        "# Distribution analysis to find popular brand, names and shoe sizes for reference.\n",
        "df_cat = ['Sneaker Name', 'Retail Price', 'Shoe Size' ]\n",
        "for cat in df_cat:\n",
        "    cat_num = df[str(cat)].value_counts()\n",
        "    plt.figure(figsize=(15,6))\n",
        "    chart = sns.barplot(x = cat_num.index, y= cat_num)\n",
        "    chart.set_title(\"Sneakers Sales by %s\" % (cat))\n",
        "    plt.ylabel(\"Sneaker Sales\")\n",
        "    chart.set_xticklabels(chart.get_xticklabels(), rotation = 90)\n",
        "    plt.gca().xaxis.set_major_locator(plt.MultipleLocator(1))\n",
        "    plt.show(15)"
      ],
      "metadata": {
        "colab": {
          "base_uri": "https://localhost:8080/",
          "height": 1000
        },
        "id": "UE2-pmMydXRI",
        "outputId": "f0c46ea7-c105-404a-b93a-9772c470fa36"
      },
      "execution_count": 8,
      "outputs": [
        {
          "output_type": "display_data",
          "data": {
            "text/plain": [
              "<Figure size 1080x432 with 1 Axes>"
            ],
            "image/png": "[encoded data removed]"
          },
          "metadata": {
            "needs_background": "light"
          }
        },
        {
          "output_type": "display_data",
          "data": {
            "text/plain": [
              "<Figure size 1080x432 with 1 Axes>"
            ],
            "image/png": "[encoded data removed]"
          },
          "metadata": {
            "needs_background": "light"
          }
        },
        {
          "output_type": "display_data",
          "data": {
            "text/plain": [
              "<Figure size 1080x432 with 1 Axes>"
            ],
            "image/png": "[encoded data removed]"
          },
          "metadata": {
            "needs_background": "light"
          }
        }
      ]
    },
    {
      "cell_type": "markdown",
      "source": [
        "# ML Models"
      ],
      "metadata": {
        "id": "bM9X_0kN36h9"
      }
    },
    {
      "cell_type": "code",
      "source": [
        "# drop the columns we don't want to use in our models\n",
        "consolidated_df = df.drop(columns=['Order Date','Release Date', 'Buyer Region', 'Brand', 'Sneaker Name'])\n",
        "\n",
        "# separate the data into features and target\n",
        "y = consolidated_df[\"Profitable\"]\n",
        "\n",
        "# y[:5]\n",
        "\n",
        "# Define Feature Set\n",
        "X = consolidated_df.drop(columns = \"Profitable\")\n",
        "\n",
        "# X.head()\n",
        "\n",
        "# check the value_counts to see whether there is an oversampling issue\n",
        "y.value_counts()"
      ],
      "metadata": {
        "colab": {
          "base_uri": "https://localhost:8080/"
        },
        "id": "uBFggWlCvbZw",
        "outputId": "2fee008d-c39e-45e5-d809-a8a625ab65d9"
      },
      "execution_count": 9,
      "outputs": [
        {
          "output_type": "execute_result",
          "data": {
            "text/plain": [
              "0    64046\n",
              "1    35910\n",
              "Name: Profitable, dtype: int64"
            ]
          },
          "metadata": {},
          "execution_count": 9
        }
      ]
    },
    {
      "cell_type": "markdown",
      "source": [
        "## Split and Scale Data"
      ],
      "metadata": {
        "id": "AHLQn6zs3Kvc"
      }
    },
    {
      "cell_type": "code",
      "source": [
        "# Split the data using train_test_split\n",
        "X_train, X_test, y_train, y_test = train_test_split(X, y, random_state=1)\n",
        "\n",
        "# Create a StandardScaler instance\n",
        "scaler = StandardScaler()\n",
        "\n",
        "# Fit the scaler to the features training dataset\n",
        "X_scaler = scaler.fit(X_train)\n",
        "\n",
        "# Fit the scaler to the features training dataset\n",
        "X_train_scaled = X_scaler.transform(X_train)\n",
        "X_test_scaled = X_scaler.transform(X_test)"
      ],
      "metadata": {
        "id": "YLryTWx0zktA"
      },
      "execution_count": 10,
      "outputs": []
    },
    {
      "cell_type": "code",
      "source": [
        "# Instantiate the random oversampler model\n",
        "random_oversampler = RandomOverSampler(random_state=1)\n",
        "# Fit the training data to the random_oversampler model\n",
        "X_resampled, y_resampled = random_oversampler.fit_resample(X_train, y_train)\n",
        "\n",
        "y_resampled.value_counts()"
      ],
      "metadata": {
        "colab": {
          "base_uri": "https://localhost:8080/"
        },
        "id": "91wpk5e5xmkW",
        "outputId": "d3a27426-93e4-4804-d0fe-c8b687573243"
      },
      "execution_count": 11,
      "outputs": [
        {
          "output_type": "execute_result",
          "data": {
            "text/plain": [
              "1    48000\n",
              "0    48000\n",
              "Name: Profitable, dtype: int64"
            ]
          },
          "metadata": {},
          "execution_count": 11
        }
      ]
    },
    {
      "cell_type": "markdown",
      "source": [
        "## Logistic Regression"
      ],
      "metadata": {
        "id": "KL27vZtz4Ghs"
      }
    },
    {
      "cell_type": "code",
      "source": [
        "# Instantiate the Logistic Regression model\n",
        "logistic_regression_model = LogisticRegression(random_state=1)\n",
        "# Fit the model using the resampled training data\n",
        "lr_model = logistic_regression_model.fit(X_train_scaled, y_train)\n",
        "# Make a prediction using the testing data\n",
        "predictions = logistic_regression_model.predict(X_test)\n",
        "\n",
        "#Balanced Accuracy\n",
        "balanced_accuracy_score(y_test, predictions)"
      ],
      "metadata": {
        "colab": {
          "base_uri": "https://localhost:8080/"
        },
        "id": "bmp62yaC0j6J",
        "outputId": "0ca0ce53-bdf0-416e-a89b-f880d94c5b1f"
      },
      "execution_count": 12,
      "outputs": [
        {
          "output_type": "execute_result",
          "data": {
            "text/plain": [
              "0.5"
            ]
          },
          "metadata": {},
          "execution_count": 12
        }
      ]
    },
    {
      "cell_type": "code",
      "source": [
        "# Confusion Matrix\n",
        "confusion_matrix(y_test, predictions)"
      ],
      "metadata": {
        "colab": {
          "base_uri": "https://localhost:8080/"
        },
        "id": "ZZt5obAj0zTF",
        "outputId": "8d3a7324-2239-45dd-b33d-dac8ecddec2e"
      },
      "execution_count": 13,
      "outputs": [
        {
          "output_type": "execute_result",
          "data": {
            "text/plain": [
              "array([[    0, 16046],\n",
              "       [    0,  8943]])"
            ]
          },
          "metadata": {},
          "execution_count": 13
        }
      ]
    },
    {
      "cell_type": "code",
      "source": [
        "# Print Classsification report\n",
        "print(classification_report_imbalanced(y_test, predictions))"
      ],
      "metadata": {
        "colab": {
          "base_uri": "https://localhost:8080/"
        },
        "id": "6t4f1F4J05sk",
        "outputId": "12d083db-dfa0-4024-8f45-e3a7cd8304a5"
      },
      "execution_count": 14,
      "outputs": [
        {
          "output_type": "stream",
          "name": "stdout",
          "text": [
            "                   pre       rec       spe        f1       geo       iba       sup\n",
            "\n",
            "          0       0.00      0.00      1.00      0.00      0.00      0.00     16046\n",
            "          1       0.36      1.00      0.00      0.53      0.00      0.00      8943\n",
            "\n",
            "avg / total       0.13      0.36      0.64      0.19      0.00      0.00     24989\n",
            "\n"
          ]
        }
      ]
    },
    {
      "cell_type": "markdown",
      "source": [
        "## Logistic Regression Model on Resampled Data"
      ],
      "metadata": {
        "id": "Am74TaIQ4O0X"
      }
    },
    {
      "cell_type": "code",
      "source": [
        "# Instantiate the Logistic Regression model\n",
        "logistic_regression_model_resampled = LogisticRegression(random_state=1)\n",
        "# Fit the model using the resampled training data\n",
        "lr_model_resampled = logistic_regression_model_resampled.fit(X_resampled, y_resampled)\n",
        "# Make a prediction using the testing data\n",
        "predictions_oversampled = logistic_regression_model_resampled.predict(X_test)\n",
        "\n",
        "balanced_accuracy_score(y_test, predictions_oversampled)"
      ],
      "metadata": {
        "colab": {
          "base_uri": "https://localhost:8080/"
        },
        "id": "4RzGyNtc1BuI",
        "outputId": "f2105ff0-953d-464c-f55b-f50dde2b4ea3"
      },
      "execution_count": 15,
      "outputs": [
        {
          "output_type": "execute_result",
          "data": {
            "text/plain": [
              "1.0"
            ]
          },
          "metadata": {},
          "execution_count": 15
        }
      ]
    },
    {
      "cell_type": "code",
      "source": [
        "confusion_matrix(y_test, predictions_oversampled)"
      ],
      "metadata": {
        "colab": {
          "base_uri": "https://localhost:8080/"
        },
        "id": "fivYVHP61P-b",
        "outputId": "72fe4316-8b55-4550-8dd3-064f2a74b8d8"
      },
      "execution_count": 16,
      "outputs": [
        {
          "output_type": "execute_result",
          "data": {
            "text/plain": [
              "array([[16046,     0],\n",
              "       [    0,  8943]])"
            ]
          },
          "metadata": {},
          "execution_count": 16
        }
      ]
    },
    {
      "cell_type": "code",
      "source": [
        "print(classification_report_imbalanced(y_test, predictions_oversampled))"
      ],
      "metadata": {
        "colab": {
          "base_uri": "https://localhost:8080/"
        },
        "id": "P3hUEIil1SXz",
        "outputId": "322abb32-8350-4b1a-80b6-dbf3e05603d3"
      },
      "execution_count": 17,
      "outputs": [
        {
          "output_type": "stream",
          "name": "stdout",
          "text": [
            "                   pre       rec       spe        f1       geo       iba       sup\n",
            "\n",
            "          0       1.00      1.00      1.00      1.00      1.00      1.00     16046\n",
            "          1       1.00      1.00      1.00      1.00      1.00      1.00      8943\n",
            "\n",
            "avg / total       1.00      1.00      1.00      1.00      1.00      1.00     24989\n",
            "\n"
          ]
        }
      ]
    },
    {
      "cell_type": "markdown",
      "source": [
        "# KNN Model Trained on Resampled Data"
      ],
      "metadata": {
        "id": "hVltDUrh1sc9"
      }
    },
    {
      "cell_type": "markdown",
      "source": [],
      "metadata": {
        "id": "VjiGMeKGrDbH"
      }
    },
    {
      "cell_type": "code",
      "source": [
        "knn_resampled_model = KNeighborsClassifier(n_neighbors=3) \n",
        "\n",
        "knn_resampled_model.fit(X_resampled, y_resampled) \n",
        "\n",
        " # Create predictions\n",
        "y_pred_knn_resampled = knn_resampled_model.predict(X_test_scaled)\n",
        "\n",
        "# Review the predictions\n",
        "y_pred_knn_resampled"
      ],
      "metadata": {
        "colab": {
          "base_uri": "https://localhost:8080/"
        },
        "id": "8uQuQ-2x1zGW",
        "outputId": "7ee6107e-d629-4bb5-e0f6-402d9d675f51"
      },
      "execution_count": 18,
      "outputs": [
        {
          "output_type": "execute_result",
          "data": {
            "text/plain": [
              "array([0, 0, 0, ..., 0, 0, 0])"
            ]
          },
          "metadata": {},
          "execution_count": 18
        }
      ]
    },
    {
      "cell_type": "code",
      "source": [
        "print(classification_report(y_pred_knn_resampled,y_test)) "
      ],
      "metadata": {
        "colab": {
          "base_uri": "https://localhost:8080/"
        },
        "id": "SJeyMc5i14_t",
        "outputId": "7efb8bcd-9749-4844-88d7-d5611ec89cd6"
      },
      "execution_count": 19,
      "outputs": [
        {
          "output_type": "stream",
          "name": "stdout",
          "text": [
            "              precision    recall  f1-score   support\n",
            "\n",
            "           0       1.00      0.64      0.78     24989\n",
            "           1       0.00      0.00      0.00         0\n",
            "\n",
            "    accuracy                           0.64     24989\n",
            "   macro avg       0.50      0.32      0.39     24989\n",
            "weighted avg       1.00      0.64      0.78     24989\n",
            "\n"
          ]
        }
      ]
    },
    {
      "cell_type": "code",
      "source": [
        "balanced_accuracy_score(y_pred_knn_resampled,y_test)"
      ],
      "metadata": {
        "colab": {
          "base_uri": "https://localhost:8080/"
        },
        "id": "iurWw8Px16i_",
        "outputId": "4981c058-3f65-4d92-a5e5-d4e616623358"
      },
      "execution_count": 20,
      "outputs": [
        {
          "output_type": "execute_result",
          "data": {
            "text/plain": [
              "0.6421225339149226"
            ]
          },
          "metadata": {},
          "execution_count": 20
        }
      ]
    }
  ]
}